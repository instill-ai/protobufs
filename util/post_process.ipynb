{
 "cells": [
  {
   "cell_type": "code",
   "execution_count": 22,
   "metadata": {},
   "outputs": [
    {
     "name": "stdout",
     "output_type": "stream",
     "text": [
      "load file: openapiv2.swagger.yaml\n"
     ]
    },
    {
     "ename": "IndexError",
     "evalue": "list index out of range",
     "output_type": "error",
     "traceback": [
      "\u001b[0;31m---------------------------------------------------------------------------\u001b[0m",
      "\u001b[0;31mIndexError\u001b[0m                                Traceback (most recent call last)",
      "Cell \u001b[0;32mIn[22], line 33\u001b[0m\n\u001b[1;32m     30\u001b[0m     filedata \u001b[39m=\u001b[39m filedata\u001b[39m.\u001b[39mreplace(\u001b[39m\"\u001b[39m\u001b[39m/\u001b[39m\u001b[39m{\u001b[39m\u001b[39m\"\u001b[39m \u001b[39m+\u001b[39m n[\u001b[39m0\u001b[39m] \u001b[39m+\u001b[39m \u001b[39m\"\u001b[39m\u001b[39mPermalink}\u001b[39m\u001b[39m\"\u001b[39m, \u001b[39m\"\u001b[39m\u001b[39m/\u001b[39m\u001b[39m\"\u001b[39m \u001b[39m+\u001b[39m n[\u001b[39m1\u001b[39m] \u001b[39m+\u001b[39m \u001b[39m\"\u001b[39m\u001b[39ms/\u001b[39m\u001b[39m{uid}\u001b[39;00m\u001b[39m\"\u001b[39m)\n\u001b[1;32m     32\u001b[0m \u001b[39mfor\u001b[39;00m n \u001b[39min\u001b[39;00m name_hyphen_list:\n\u001b[0;32m---> 33\u001b[0m     filedata \u001b[39m=\u001b[39m filedata\u001b[39m.\u001b[39mreplace(\u001b[39m\"\u001b[39m\u001b[39m/\u001b[39m\u001b[39m{\u001b[39m\u001b[39m\"\u001b[39m \u001b[39m+\u001b[39m n[\u001b[39m0\u001b[39m] \u001b[39m+\u001b[39m \u001b[39m\"\u001b[39m\u001b[39mName}\u001b[39m\u001b[39m\"\u001b[39m, \u001b[39m\"\u001b[39m\u001b[39m/\u001b[39m\u001b[39m\"\u001b[39m \u001b[39m+\u001b[39m n[\u001b[39m1\u001b[39m] \u001b[39m+\u001b[39m \u001b[39m\"\u001b[39m\u001b[39ms/\u001b[39m\u001b[39m{id}\u001b[39;00m\u001b[39m/\u001b[39m\u001b[39m\"\u001b[39m \u001b[39m+\u001b[39m n[\u001b[39m2\u001b[39;49m])\n\u001b[1;32m     35\u001b[0m \u001b[39mfor\u001b[39;00m n \u001b[39min\u001b[39;00m controller_list:\n\u001b[1;32m     36\u001b[0m     filedata \u001b[39m=\u001b[39m filedata\u001b[39m.\u001b[39mreplace(\u001b[39m\"\u001b[39m\u001b[39m/\u001b[39m\u001b[39m{\u001b[39m\u001b[39m\"\u001b[39m \u001b[39m+\u001b[39m n[\u001b[39m0\u001b[39m] \u001b[39m+\u001b[39m \u001b[39m\"\u001b[39m\u001b[39mName}\u001b[39m\u001b[39m\"\u001b[39m, \u001b[39m\"\u001b[39m\u001b[39m/\u001b[39m\u001b[39m\"\u001b[39m \u001b[39m+\u001b[39m n[\u001b[39m0\u001b[39m] \u001b[39m+\u001b[39m \u001b[39m\"\u001b[39m\u001b[39ms/\u001b[39m\u001b[39m{id}\u001b[39;00m\u001b[39m/\u001b[39m\u001b[39m\"\u001b[39m \u001b[39m+\u001b[39m n[\u001b[39m1\u001b[39m] \u001b[39m+\u001b[39m \u001b[39m\"\u001b[39m\u001b[39ms/\u001b[39m\u001b[39m{type}\u001b[39;00m\u001b[39m\"\u001b[39m)\n",
      "\u001b[0;31mIndexError\u001b[0m: list index out of range"
     ]
    }
   ],
   "source": [
    "\n",
    "filename = \"openapiv2.swagger.yaml\"\n",
    "name_list = [\"pipeline\",\n",
    "             \"token\",\n",
    "             \"user\",\n",
    "             \"model\",\n",
    "             \"operation\"]\n",
    "\n",
    "name_hyphen_list = [[\"sourceConnector\", \"source-connector\"],\n",
    "                    [\"destinationConnector\", \"destination-connector\"],\n",
    "                    [\"sourceConnectorDefinition\", \"source-connector-definition\"],\n",
    "                    [\"destinationConnectorDefinition\", \"destination-connector-definition\"],\n",
    "                    [\"modelDefinition\", \"model-definition\"],]\n",
    "\n",
    "model_card_list = [[\"modelCard\", \"models\", \"readme\"]]\n",
    "\n",
    "controller_list = [[\"resource\", \"type\"]]\n",
    "\n",
    "# Read in the file\n",
    "with open(filename, 'r') as file:\n",
    "    print(\"load file:\", filename)\n",
    "    filedata = file.read()\n",
    "\n",
    "# Replace the target string\n",
    "for n in name_list:\n",
    "    filedata = filedata.replace(\"/{\" + n + \"Name}\", \"/\" + n + \"s/{id}\")\n",
    "    filedata = filedata.replace(\"/{\" + n + \"Permalink}\", \"/\" + n + \"s/{uid}\")\n",
    "\n",
    "for n in name_hyphen_list:\n",
    "    filedata = filedata.replace(\"/{\" + n[0] + \"Name}\", \"/\" + n[1] + \"s/{id}\")\n",
    "    filedata = filedata.replace(\"/{\" + n[0] + \"Permalink}\", \"/\" + n[1] + \"s/{uid}\")\n",
    "    \n",
    "for n in model_card_list:\n",
    "    filedata = filedata.replace(\"/{\" + n[0] + \"Name}\", \"/\" + n[1] + \"s/{id}/\" + n[2])\n",
    "\n",
    "for n in controller_list:\n",
    "    filedata = filedata.replace(\"/{\" + n[0] + \"Name}\", \"/\" + n[0] + \"s/{id}/\" + n[1] + \"s/{type}\")\n",
    "\n",
    "# Save update filedata\n",
    "with open(filename, 'w') as file:\n",
    "    print(\"save file:\", filename)\n",
    "    file.write(filedata)"
   ]
  }
 ],
 "metadata": {
  "kernelspec": {
   "display_name": "abrc-new",
   "language": "python",
   "name": "python3"
  },
  "language_info": {
   "codemirror_mode": {
    "name": "ipython",
    "version": 3
   },
   "file_extension": ".py",
   "mimetype": "text/x-python",
   "name": "python",
   "nbconvert_exporter": "python",
   "pygments_lexer": "ipython3",
   "version": "3.9.16"
  },
  "orig_nbformat": 4
 },
 "nbformat": 4,
 "nbformat_minor": 2
}
